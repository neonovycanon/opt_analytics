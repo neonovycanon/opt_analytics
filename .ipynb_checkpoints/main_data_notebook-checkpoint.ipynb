{
 "cells": [
  {
   "cell_type": "markdown",
   "id": "4a72a885-374a-435b-a6d9-4609353d6c8b",
   "metadata": {},
   "source": [
    "# Разработка модели классификатора"
   ]
  },
  {
   "cell_type": "markdown",
   "id": "293ba137-bdc8-40bf-a8b9-e59ec1b6ab0b",
   "metadata": {},
   "source": [
    "# Импорт данных. Импорт библиотек.\n",
    "## Импорт библиотек"
   ]
  },
  {
   "cell_type": "code",
   "execution_count": null,
   "id": "f054eddc-213f-4ccb-88d2-77cc7367c69b",
   "metadata": {},
   "outputs": [],
   "source": [
    "import numpy as np\n",
    "import pandas as pd\n",
    "import matplotlib.pyplot as plt\n",
    "import seaborn as sns\n",
    "import os\n",
    "import regex as re\n",
    "\n",
    "'''from sklearn.linear_model import LinearRegression, LogisticRegression\n",
    "from sklearn.svm import SVC\n",
    "from sklearn.metrics import (f1_score, precision_score, recall_score, accuracy_score,\n",
    "                            roc_auc_score, RocCurveDisplay, roc_auc_score,\n",
    "                            confusion_matrix)\n",
    "'''\n",
    "#import tensorflow as tf"
   ]
  },
  {
   "cell_type": "code",
   "execution_count": null,
   "id": "52184b99-a01f-49fc-9650-5d4d0bf5c9b1",
   "metadata": {},
   "outputs": [],
   "source": []
  }
 ],
 "metadata": {
  "kernelspec": {
   "display_name": "Python 3 (ipykernel)",
   "language": "python",
   "name": "python3"
  },
  "language_info": {
   "codemirror_mode": {
    "name": "ipython",
    "version": 3
   },
   "file_extension": ".py",
   "mimetype": "text/x-python",
   "name": "python",
   "nbconvert_exporter": "python",
   "pygments_lexer": "ipython3",
   "version": "3.11.7"
  }
 },
 "nbformat": 4,
 "nbformat_minor": 5
}
